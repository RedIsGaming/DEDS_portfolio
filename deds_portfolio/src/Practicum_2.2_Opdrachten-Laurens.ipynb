{
 "cells": [
  {
   "cell_type": "markdown",
   "metadata": {},
   "source": [
    "# Practicumopdrachten Week 2.2 (eerste kans)"
   ]
  },
  {
   "cell_type": "markdown",
   "metadata": {},
   "source": [
    "## Dependencies importeren"
   ]
  },
  {
   "cell_type": "markdown",
   "metadata": {},
   "source": [
    "Importeer in het codeblok hieronder de packages die worden gebruikt om data in te lezen. Geef er ook de gebruikelijke aliassen aan.<br>\n",
    "N.B.: de 2 reeds geschreven coderegels zorgen ervoor dat eventuele warnings, die code-outputs lelijker maken, uitgezet worden."
   ]
  },
  {
   "cell_type": "code",
   "execution_count": null,
   "metadata": {},
   "outputs": [],
   "source": [
    "import warnings\n",
    "import pandas as pd\n",
    "warnings.simplefilter('ignore')"
   ]
  },
  {
   "cell_type": "markdown",
   "metadata": {},
   "source": [
    "Zet het bestand go_sales.sqlite in hetzelfde mapje als dit notebook."
   ]
  },
  {
   "cell_type": "markdown",
   "metadata": {},
   "source": [
    "## Databasetabel inlezen"
   ]
  },
  {
   "cell_type": "markdown",
   "metadata": {},
   "source": [
    "Creëer een databaseconnectie met het bestand go_sales.sqlite."
   ]
  },
  {
   "cell_type": "code",
   "execution_count": null,
   "metadata": {},
   "outputs": [],
   "source": [
    "import sqlite3      # De library die in Python werkt met SQLite databases.\n",
    "\n",
    "go_sales = sqlite3.connect(\"go_sales.sqlite\")       # We lezen `go_sales.sqlite` (bestand in dezelfde map) en maken \"verbinding\" met die database."
   ]
  },
  {
   "cell_type": "markdown",
   "metadata": {},
   "source": [
    "Gebruik de onderstaande sql_query om te achterhalen welke databasetabellen in go_sales zitten."
   ]
  },
  {
   "cell_type": "code",
   "execution_count": null,
   "metadata": {},
   "outputs": [],
   "source": [
    "sql_query = \"SELECT name FROM sqlite_master WHERE type='table';\"        # Query om de namen van alle tabellen te krijgen.\n",
    "#Vul dit codeblok verder in\n",
    "cursor = go_sales.execute(sql_query)        # Uitvoeren van de query.\n",
    "for row in cursor.fetchall():       # Alle resultaten opvragen\n",
    "    print(row[0])   # Het eerste item van elke rij uitprinten"
   ]
  },
  {
   "cell_type": "markdown",
   "metadata": {},
   "source": [
    "Gebruik de gecreëerde databaseconnectie om de resultaten van de volgende query in een DataFrame te zetten:<br>\n",
    "*SELECT * FROM sales_staff* "
   ]
  },
  {
   "cell_type": "code",
   "execution_count": null,
   "metadata": {},
   "outputs": [],
   "source": [
    "df = pd.DataFrame(go_sales.execute(\"SELECT * FROM sales_staff\"), columns=[  # DataFrame maken met alle data uit de `sales_staff` tabel, hieronder volgen de kolommen van die tabel, zodat we niet naar kolom 0, kolom 1, etc hoeven te verwijzen, maar we ze gewoon bij naam kunnen noemen.\n",
    "    \"SALES_STAFF_CODE\",\n",
    "    \"FIRST_NAME\",\n",
    "    \"LAST_NAME\",\n",
    "    \"POSITION_EN\",\n",
    "    \"WORK_PHONE\",\n",
    "    \"EXTENSION\",\n",
    "    \"FAX\",\n",
    "    \"EMAIL\",\n",
    "    \"DATE_HIRED\",\n",
    "    \"SALES_BRANCH_CODE\",\n",
    "    \"TRIAL888\"\n",
    "])"
   ]
  },
  {
   "cell_type": "markdown",
   "metadata": {},
   "source": [
    "## DataFrames uitsplitsen en opbouwen met Series"
   ]
  },
  {
   "cell_type": "markdown",
   "metadata": {},
   "source": [
    "De volgende 5 kolommen hebben betrekking op de contactdetails van elke medewerker in dit DataFrame:\n",
    "- SALES_STAFF_CODE\n",
    "- WORK_PHONE\n",
    "- EXTENSION\n",
    "- FAX\n",
    "- EMAIL\n",
    "\n",
    "Maak van elk van deze 5 kolommen een serie."
   ]
  },
  {
   "cell_type": "code",
   "execution_count": null,
   "metadata": {},
   "outputs": [],
   "source": [
    "series_1 = df[\"SALES_STAFF_CODE\"]       # series_1 is een pandas.Series object.\n",
    "series_2 = df[\"WORK_PHONE\"]             # series_2 ook\n",
    "series_3 = df[\"EXTENSION\"]              # etc.\n",
    "series_4 = df[\"FAX\"]                    # Een series-object is eigenlijk gewoon 1 kolom uit de tabel\n",
    "series_5 = df[\"EMAIL\"]"
   ]
  },
  {
   "cell_type": "markdown",
   "metadata": {},
   "source": [
    "Zet allevijf gecreëerde series als kolommen naast elkaar in een DataFrame (*contact_details*). Gebruik pd.concat(...)<br>\n",
    "Hulpvraag: welke waarde geef je aan de axis-parameter?"
   ]
  },
  {
   "cell_type": "code",
   "execution_count": null,
   "metadata": {},
   "outputs": [],
   "source": [
    "contact_details = pd.concat([series_1, series_2, series_3, series_4, series_5], axis=1)     # We plaatsen alle 5 series bij elkaar. axis=1 geeft aan dat we ze naast elkaar willen zetten.\n",
    "\n",
    "# Antwoord op de hulpvraag: 1\n",
    "contact_details"
   ]
  },
  {
   "cell_type": "markdown",
   "metadata": {},
   "source": [
    "## Series en DataFrames maken vanuit lists en dictionaries"
   ]
  },
  {
   "cell_type": "markdown",
   "metadata": {},
   "source": [
    "Met .head(*getal*) kan je de bovenste *getal* rijen van een tabel selecteren.<br>\n",
    "Selecteer op deze manier de bovenste 5 rijen van *contact_details*.<br>\n",
    "Sla dit resultaat op in een nieuw DataFrame."
   ]
  },
  {
   "cell_type": "code",
   "execution_count": null,
   "metadata": {},
   "outputs": [],
   "source": [
    "een_nieuw_DataFrame = contact_details.head(5)       # Eerste 5 rijen van contact_details opvragen."
   ]
  },
  {
   "cell_type": "markdown",
   "metadata": {},
   "source": [
    "Aan deze rijen met contactdetails willen we 3 kolommen toevoegen: 'FIRST_LANGUAGE', 'SECOND_LANGUAGE' & 'THIRD_LANGUAGE'.<br>\n",
    "Iedereens 'First Language' is Engels, afgekort 'EN'. Maak een lijst waarin 5x 'EN' staat.<br>\n",
    "Converteer deze lijst vervolgens naar een serie en voeg deze horizontaal samen met het resultaat van de vorige opdracht.<br>\n",
    "Vergeet niet een passende naam te geven aan de nieuw ontstane kolom."
   ]
  },
  {
   "cell_type": "code",
   "execution_count": null,
   "metadata": {},
   "outputs": [],
   "source": [
    "een_nieuw_DataFrame.insert(2, \"FIRST_LANGUAGE\", [\"EN\"] * 5, True)       # Als first-language Engels toevoegen voor iedereen."
   ]
  },
  {
   "cell_type": "markdown",
   "metadata": {},
   "source": [
    "Maak nu de tweede kolom ('SECOND_LANGUAGE'). Maak daarvoor een dictionary, met daarin...\n",
    "- Als keys: alle indexen uit het resultaat van het vorige codeblok.\n",
    "- Als values: bij de eerste 3 elementen 'FR' (Frankrijk), bij de laatste 2 'DE' (Duitsland).\n",
    "\n",
    "Maak vervolgens ook hier weer een serie van en voeg ook deze weer horizontaal samen met het rsultaat van de vorige opdracht.<br>\n",
    "Vergeet niet een passende naam te geven aan de nieuw ontstane kolom."
   ]
  },
  {
   "cell_type": "code",
   "execution_count": null,
   "metadata": {},
   "outputs": [],
   "source": [
    "een_nieuw_DataFrame.insert(3, \"SECOND_LANGUAGE\", {      # Second language toevoegen voor iedereen\n",
    "    0: \"FR\",\n",
    "    1: \"FR\",\n",
    "    2: \"FR\",\n",
    "    3: \"DE\",\n",
    "    4: \"DE\"\n",
    "})\n",
    "\n",
    "een_nieuw_DataFrame"
   ]
  },
  {
   "cell_type": "markdown",
   "metadata": {},
   "source": [
    "Maak ten slotte de derde kolom ('THIRD_LANGUAGE') door een dictionary te maken met daarin...\n",
    "- Als key: de naam van de nieuwe kolom. Zie je het verschil qua keys met de vorige opdracht?\n",
    "- Als waarde: een lijst met daarin 'NL', 'NL', 'JPN', 'JPN', 'KOR'.\n",
    "\n",
    "Converteer deze dictionary nu naar een DataFrame en voeg deze horizontaal samen met het resultaat van de vorige opdracht.<br>\n",
    "Waarom hoef je hierna de nieuw ontstane kolom geen passende naam meer te geven?"
   ]
  },
  {
   "cell_type": "code",
   "execution_count": null,
   "metadata": {},
   "outputs": [],
   "source": [
    "een_nieuw_DataFrame.insert(4, \"THIRD_LANGUAGE\", {       # Third language toevoegen voor iedereen\n",
    "    \"THIRD_LANGUAGE\": [\"NL\", \"NL\", \"JPN\", \"JPN\", \"KOR\"]\n",
    "})\n",
    "een_nieuw_DataFrame"
   ]
  },
  {
   "cell_type": "markdown",
   "metadata": {},
   "source": [
    "## Data toevoegen"
   ]
  },
  {
   "cell_type": "markdown",
   "metadata": {},
   "source": [
    "### Rijen"
   ]
  },
  {
   "cell_type": "markdown",
   "metadata": {},
   "source": [
    "Gebruik de originele databasetabel *sales_staff*.<br>\n",
    "Voeg een extra rij toe met eigen invulling. Zorg ervoor dat de index netjes doorloopt.<br>\n",
    "Hulpvraag: welke waarde geef je nu aan axis?"
   ]
  },
  {
   "cell_type": "code",
   "execution_count": null,
   "metadata": {},
   "outputs": [],
   "source": [
    "sales_staff = pd.DataFrame(go_sales.execute(\"SELECT * FROM sales_staff\"), columns=[     # Data opnieuw laden, ook al zou die niet aangepast moeten zijn, ik wil liever even opnieuw laden dan dat ik later erachter kom dat het wel aangepast blijkt te zijn.\n",
    "    \"SALES_STAFF_CODE\",\n",
    "    \"FIRST_NAME\",\n",
    "    \"LAST_NAME\",\n",
    "    \"POSITION_EN\",\n",
    "    \"WORK_PHONE\",\n",
    "    \"EXTENSION\",\n",
    "    \"FAX\",\n",
    "    \"EMAIL\",\n",
    "    \"DATE_HIRED\",\n",
    "    \"SALES_BRANCH_CODE\",\n",
    "    \"TRIAL888\"\n",
    "])\n",
    "\n",
    "sales_staff = sales_staff.append({  # Toevoegen van een rij aan de tabel\n",
    "    \"SALES_STAFF_CODE\": 197,\n",
    "    \"FIRST_NAME\": \"Voornaam\",\n",
    "    \"LAST_NAME\": \"Achternaam\",\n",
    "    \"POSITION_EN\": \"Level 1000 Representative\",\n",
    "    \"WORK_PHONE\": \"+31612233445\",\n",
    "    \"EXTENSION\": 999,\n",
    "    \"FAX\": \"+31612233446\",\n",
    "    \"EMAIL\": \"kutzooi@gmail.com\",\n",
    "    \"DATE_HIRED\": \"1-1-1988\",\n",
    "    \"SALES_BRANCH_CODE\": 12,\n",
    "    \"TRIAL888\": False\n",
    "}, ignore_index=True)\n",
    "\n",
    "sales_staff\n"
   ]
  },
  {
   "cell_type": "markdown",
   "metadata": {},
   "source": [
    "### Kolommen"
   ]
  },
  {
   "cell_type": "markdown",
   "metadata": {},
   "source": [
    "Voeg een kolom *FULL_NAME* toe die de waarden van *FIRST_NAME* en *LAST_NAME* achter elkaar zet, gescheiden door een spatie."
   ]
  },
  {
   "cell_type": "code",
   "execution_count": null,
   "metadata": {},
   "outputs": [],
   "source": [
    "sales_staff[\"FULL_NAME\"] = sales_staff[\"FIRST_NAME\"] + \" \" + sales_staff[\"LAST_NAME\"]   # Kolom \"FULL_NAME\" maken die een combinatie is van de voornaam en de achternaam"
   ]
  },
  {
   "cell_type": "markdown",
   "metadata": {},
   "source": [
    "## Data wijzigen"
   ]
  },
  {
   "cell_type": "markdown",
   "metadata": {},
   "source": [
    "### Datatypen"
   ]
  },
  {
   "cell_type": "markdown",
   "metadata": {},
   "source": [
    "Door het attribuut .dtypes van een DataFrame op te vragen krijg je een serie die per kolom het datatype weergeeft. Doe dit bij de originele databasetabel *sales_staff*"
   ]
  },
  {
   "cell_type": "code",
   "execution_count": null,
   "metadata": {},
   "outputs": [],
   "source": [
    "print(sales_staff.dtypes)   # De datatypes van alle kolommen opvragen. Dit zegt niet veel, want alles in Python is een object (zelfs functies, classes en instanties van classes)"
   ]
  },
  {
   "cell_type": "markdown",
   "metadata": {},
   "source": [
    "Hier valt op dat elke kolom het datatype 'object' heeft: Python leest dus alles als string. Wiskundige operaties zijn hierdoor niet mogelijk.<br>\n",
    "We kunnen proberen om kolommen met getallen, bijvoorbeeld de 'extension', te converteren naar een int. Zie onderstaande code."
   ]
  },
  {
   "cell_type": "code",
   "execution_count": null,
   "metadata": {},
   "outputs": [],
   "source": [
    "# sales_staff[\"EXTENSION\"] = sales_staff[\"EXTENSION\"].astype(int)\n",
    "# sales_staff.dtypes\n",
    "# Gecommentarieerd om de rest van de code uit te laten voeren met de Run All knop. Deze code stond er al als voorbeeld van hoe het niet moet."
   ]
  },
  {
   "cell_type": "markdown",
   "metadata": {},
   "source": [
    "Dit lukt echter niet, omdat er in de kolom 'EXTENSION' lege waarden zitten die niet geconverteerd kunnen worden naar een int.<br>\n",
    "Wél kan je deze naar een float converteren, zie onderstaande code:"
   ]
  },
  {
   "cell_type": "code",
   "execution_count": null,
   "metadata": {},
   "outputs": [],
   "source": [
    "sales_staff[\"EXTENSION\"] = sales_staff[\"EXTENSION\"].astype(float)       # Converteer de \"EXTENSION\" kolom naar floats.\n",
    "sales_staff.dtypes"
   ]
  },
  {
   "cell_type": "markdown",
   "metadata": {},
   "source": [
    "Als we in de rij van 'EXTENSION' kijken zien we dat de conversie van het datatype nu is gelukt.<br>\n",
    "Dit is <b>randvoorwaardelijk</b> voor het uitvoeren van wiskundige operaties.<br>"
   ]
  },
  {
   "cell_type": "markdown",
   "metadata": {},
   "source": [
    "### Rijen"
   ]
  },
  {
   "cell_type": "markdown",
   "metadata": {},
   "source": [
    "Zorg er nu voor dat bij alle extensions 1 wordt opgeteld."
   ]
  },
  {
   "cell_type": "code",
   "execution_count": null,
   "metadata": {},
   "outputs": [],
   "source": [
    "sales_staff[\"EXTENSION\"].apply(pd.to_numeric, errors='coerce')      # En nu naar een nummerieke waarde.\n",
    "sales_staff[\"EXTENSION\"] += 1"
   ]
  },
  {
   "cell_type": "markdown",
   "metadata": {},
   "source": [
    "Elke 'Branch Manager' wordt nu 'General Manager'. Schrijf code zodat deze wijziging doorgevoerd wordt in het DataFrame."
   ]
  },
  {
   "cell_type": "code",
   "execution_count": null,
   "metadata": {},
   "outputs": [],
   "source": [
    "sales_staff.replace(\"Branch Manager\", \"General Manager\")    # Vervan alle \"Branch Manager\"s voor \"General Manager\"s"
   ]
  },
  {
   "cell_type": "markdown",
   "metadata": {},
   "source": [
    "### Kolommen"
   ]
  },
  {
   "cell_type": "markdown",
   "metadata": {},
   "source": [
    "Verander de kolomnaam 'POSITION_EN' naar 'POSITION'."
   ]
  },
  {
   "cell_type": "code",
   "execution_count": null,
   "metadata": {},
   "outputs": [],
   "source": [
    "sales_staff = sales_staff.rename({  # Hernoemen van een kolom\n",
    "    \"POSITION_EN\": \"POSITION\"\n",
    "})"
   ]
  },
  {
   "cell_type": "markdown",
   "metadata": {},
   "source": [
    "## Data verwijderen"
   ]
  },
  {
   "cell_type": "markdown",
   "metadata": {},
   "source": [
    "### Rijen"
   ]
  },
  {
   "cell_type": "markdown",
   "metadata": {},
   "source": [
    "De medewerkers op indexen 99, 100 en 101 hebben helaas ontslag genomen.<br>\n",
    "Verwijder de bijbehorende rijen uit het DataFrame. Gebruik slechts één keer de .drop()-methode."
   ]
  },
  {
   "cell_type": "code",
   "execution_count": null,
   "metadata": {},
   "outputs": [],
   "source": [
    "sales_staff.drop(101, axis=0)   # Verwijderen van rij 101\n",
    "sales_staff.drop(100, axis=0)   # Verwijderen van rij 100\n",
    "sales_staff.drop(99, axis=0)    # Verwijderen van rij 99\n",
    "# Deze heb ik in aflopende volgorde gedaan omdat het verwijderen van rij 99, rij 100 naar 99 verplaatst en rij 101 naar 100 verplaatst."
   ]
  },
  {
   "cell_type": "markdown",
   "metadata": {},
   "source": [
    "### Kolommen"
   ]
  },
  {
   "cell_type": "markdown",
   "metadata": {},
   "source": [
    "Faxen zijn inmiddels ouderwets: niemand gebruikt zijn/haar faxnummer nog.<br>\n",
    "Verwijder de bijbehorende kolom uit het DataFrame."
   ]
  },
  {
   "cell_type": "code",
   "execution_count": null,
   "metadata": {},
   "outputs": [],
   "source": [
    "sales_staff.drop(\"FAX\", axis=1) # Kolom verwijderen, axis=1 geeft aan dat we een kolom om zeep willen helpen"
   ]
  }
 ],
 "metadata": {
  "kernelspec": {
   "display_name": "python-in-deds-P4iSP_yI-py3.11",
   "language": "python",
   "name": "python3"
  },
  "language_info": {
   "codemirror_mode": {
    "name": "ipython",
    "version": 3
   },
   "file_extension": ".py",
   "mimetype": "text/x-python",
   "name": "python",
   "nbconvert_exporter": "python",
   "pygments_lexer": "ipython3",
   "version": "3.8.0"
  }
 },
 "nbformat": 4,
 "nbformat_minor": 2
}
