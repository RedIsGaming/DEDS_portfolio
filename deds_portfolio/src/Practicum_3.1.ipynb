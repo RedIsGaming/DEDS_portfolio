{
 "cells": [
  {
   "cell_type": "markdown",
   "metadata": {},
   "source": [
    "# Practicumopdracht"
   ]
  },
  {
   "cell_type": "markdown",
   "metadata": {},
   "source": [
    "Hieronder staan de practicumopdrachten beschreven waaraan tijdens de derde themaweek gewerkt wordt."
   ]
  },
  {
   "cell_type": "markdown",
   "metadata": {},
   "source": [
    "## Opdracht na HC 1"
   ]
  },
  {
   "cell_type": "markdown",
   "metadata": {},
   "source": [
    "1. Maak met python minimaal drie arrays van minimaal 20 willekeurige en niet gesorteerde integers (meer mag ook).\n",
    "\n",
    "2. Zoek op internet naar ten minste drie verschillende sorteeralgoritmes die je wilt gebruiken om de integer arrays mee te sorteren.Implementer je gekozen sorteeralgoritmes om de integer arrays mee te sorteren.\n",
    "\n",
    "3. Maak voor elk sorteeralgoritme een nieuwe methode aan die een integer array als parameter heeft en de integer array gesorteerd returnt.\n",
    "\n",
    "Kudos als je een moeilijk, super efficient of creatief algoritme kunt vinden óf zelfs bedenken ;)"
   ]
  },
  {
   "cell_type": "code",
   "execution_count": 1,
   "metadata": {},
   "outputs": [],
   "source": [
    "import array as new;\n",
    "import timeit as time;\n",
    "import random as rand;"
   ]
  },
  {
   "cell_type": "code",
   "execution_count": 2,
   "metadata": {},
   "outputs": [],
   "source": [
    "#1. Ik maak met python minimaal drie arrays van minimaal 20 willekeurige en niet gesorteerde integers (meer mag ook).\n",
    "first_array: new.array[int] = new.array(\"I\", [rand.randrange(0, 1000) for _ in range(20)])\n",
    "second_array: new.array[int] = new.array(\"I\", [rand.randrange(0, 100) for _ in range(20)])\n",
    "third_array: new.array[int] = new.array(\"I\", [rand.randrange(0, 10) for _ in range(20)])"
   ]
  },
  {
   "cell_type": "code",
   "execution_count": 3,
   "metadata": {},
   "outputs": [
    {
     "name": "stdout",
     "output_type": "stream",
     "text": [
      "Help on built-in function sorted in module builtins:\n",
      "\n",
      "sorted(iterable, /, *, key=None, reverse=False)\n",
      "    Return a new list containing all items from the iterable in ascending order.\n",
      "\n",
      "    A custom key function can be supplied to customize the sort order, and the\n",
      "    reverse flag can be set to request the result in descending order.\n",
      "\n",
      "\n",
      "\n",
      "Help on function <lambda> in module __main__:\n",
      "\n",
      "<lambda> lambda x\n",
      "\n"
     ]
    }
   ],
   "source": [
    "help(sorted)\n",
    "print(\"\\n\")\n",
    "help(lambda x: x)"
   ]
  },
  {
   "cell_type": "code",
   "execution_count": 4,
   "metadata": {},
   "outputs": [],
   "source": [
    "#2. Ik zoek op internet naar ten minste drie verschillende sorteeralgoritmes die ik wil gebruiken om de integer arrays mee te sorteren. \n",
    "#2. Ik implementer mijn gekozen sorteeralgoritmes (in de volgende opdracht) om de integer arrays mee te sorteren.\n",
    "PRECISION = 8"
   ]
  },
  {
   "cell_type": "markdown",
   "metadata": {},
   "source": [
    "## Tim Sort 1/4"
   ]
  },
  {
   "cell_type": "code",
   "execution_count": 19,
   "metadata": {},
   "outputs": [
    {
     "name": "stdout",
     "output_type": "stream",
     "text": [
      "1. Original array:\n",
      "Array 1: [372, 4, 117, 543, 671, 1, 466, 140, 982, 169, 368, 995, 800, 862, 459, 233, 997, 934, 555, 246]\n",
      "Array 2: [31, 53, 65, 86, 13, 1, 36, 80, 79, 1, 5, 86, 83, 28, 63, 33, 36, 2, 10, 16]\n",
      "Array 3: [8, 1, 4, 3, 7, 1, 4, 2, 8, 0, 1, 3, 2, 8, 1, 6, 0, 1, 3, 1]\n",
      "Was completed in: 0.0004114s\n",
      "\n",
      "1. Tim Sort: \n",
      "Array 1: [1, 4, 117, 140, 169, 233, 246, 368, 372, 459, 466, 543, 555, 671, 800, 862, 934, 982, 995, 997]\n",
      "Array 2: [1, 1, 2, 5, 10, 13, 16, 28, 31, 33, 36, 36, 53, 63, 65, 79, 80, 83, 86, 86]\n",
      "Array 3: [0, 0, 1, 1, 1, 1, 1, 1, 2, 2, 3, 3, 3, 4, 4, 6, 7, 8, 8, 8]\n",
      "Was completed in: 0.0004766s\n",
      "\n"
     ]
    }
   ],
   "source": [
    "#3 Ik maak voor elk sorteeralgoritme een nieuwe methode aan die een integer array als parameter heeft en de integer array gesorteerd returnt.\n",
    "def __tim_sort(x: new.array[int]) -> new.array[int]:\n",
    "    return sorted(x)\n",
    "\n",
    "def __print_tim_sort() -> None:\n",
    "    # The variables shouldn't mutate the original arrays or timers\n",
    "    start: float = time.default_timer()\n",
    "    first: new.array[int] = first_array; second: new.array[int] = second_array; third: new.array[int] = third_array\n",
    "\n",
    "    print(f\"1. Original array:\\nArray 1: {list(first)}\\nArray 2: {list(second)}\\nArray 3: {list(third)}\")\n",
    "    print(f\"Was completed in: {round(time.default_timer() - start, PRECISION)}s\\n\")\n",
    "    print(f\"1. Tim Sort: \\nArray 1: {__tim_sort(first)}\")\n",
    "    print(f\"Array 2: {__tim_sort(second)}\")\n",
    "    print(f\"Array 3: {__tim_sort(third)}\\nWas completed in: {round(time.default_timer() - start, PRECISION)}s\\n\")\n",
    "\n",
    "__print_tim_sort()"
   ]
  },
  {
   "cell_type": "markdown",
   "metadata": {},
   "source": [
    "## Insertion Sort 2/4"
   ]
  },
  {
   "cell_type": "markdown",
   "metadata": {},
   "source": [
    "1. Check if array length is equal to 1 or lower. If it is, it's already sorted.\n",
    "2. Loop through the array and assign the variable to the key.\n",
    "3. Create a new variable with the variable of the loop and substract with 1.\n",
    "4. Create a while loop where the new variable is equal or bigger then 0 and where the key is smaller then the array of the new variable.\n",
    "5. Put the Array where it's one higher then the original array.\n",
    "6. Substract 1 every time of the new variable.\n",
    "7. Assign the key to the array where the array is one higher of the original.\n",
    "8. Return the Array."
   ]
  },
  {
   "cell_type": "code",
   "execution_count": 20,
   "metadata": {},
   "outputs": [
    {
     "name": "stdout",
     "output_type": "stream",
     "text": [
      "2. Original array:\n",
      "Array 1: [372, 4, 117, 543, 671, 1, 466, 140, 982, 169, 368, 995, 800, 862, 459, 233, 997, 934, 555, 246]\n",
      "Array 2: [31, 53, 65, 86, 13, 1, 36, 80, 79, 1, 5, 86, 83, 28, 63, 33, 36, 2, 10, 16]\n",
      "Array 3: [8, 1, 4, 3, 7, 1, 4, 2, 8, 0, 1, 3, 2, 8, 1, 6, 0, 1, 3, 1]\n",
      "Was completed in: 0.0001262s\n",
      "\n",
      "2. Insertion Sort: \n",
      "Array 1: [1, 4, 117, 140, 169, 233, 246, 368, 372, 459, 466, 543, 555, 671, 800, 862, 934, 982, 995, 997]\n",
      "Array 2: [1, 1, 2, 5, 10, 13, 16, 28, 31, 33, 36, 36, 53, 63, 65, 79, 80, 83, 86, 86]\n",
      "Array 3: [0, 0, 1, 1, 1, 1, 1, 1, 2, 2, 3, 3, 3, 4, 4, 6, 7, 8, 8, 8]\n",
      "Was completed in: 0.0003057s\n",
      "\n"
     ]
    }
   ],
   "source": [
    "#3 Ik maak voor elk sorteeralgoritme een nieuwe methode aan die een integer array als parameter heeft en de integer array gesorteerd returnt.\n",
    "def __insertion_sort(x: new.array[int]) -> list[int]:\n",
    "    for i in range(1, len(x)):\n",
    "        if len(x) <= 1:\n",
    "            break\n",
    "        \n",
    "        key: int = x[i]\n",
    "        j: int = i - 1\n",
    "\n",
    "        while j >= 0 and key < x[j]:\n",
    "            x[j + 1] = x[j]\n",
    "            j -= 1\n",
    "            x[j + 1] = key\n",
    "\n",
    "    return list(x)\n",
    "\n",
    "def __print_insertion_sort() -> None:\n",
    "    # The variables shouldn't mutate the original arrays or timers\n",
    "    start: float = time.default_timer()\n",
    "    fourth: new.array[int] = first_array; fifth: new.array[int] = second_array; sixth: new.array[int] = third_array\n",
    "\n",
    "    print(f\"2. Original array:\\nArray 1: {list(fourth)}\\nArray 2: {list(fifth)}\\nArray 3: {list(sixth)}\")\n",
    "    print(f\"Was completed in: {round(time.default_timer() - start, PRECISION)}s\\n\")\n",
    "    print(f\"2. Insertion Sort: \\nArray 1: {__insertion_sort(fourth)}\")\n",
    "    print(f\"Array 2: {__insertion_sort(fifth)}\")\n",
    "    print(f\"Array 3: {__insertion_sort(sixth)}\\nWas completed in: {round(time.default_timer() - start, PRECISION)}s\\n\")\n",
    "\n",
    "__print_insertion_sort()"
   ]
  },
  {
   "cell_type": "markdown",
   "metadata": {},
   "source": [
    "## Merge Sort 3/4"
   ]
  },
  {
   "cell_type": "markdown",
   "metadata": {},
   "source": [
    "1. Check if array length is equal to 1 or lower. If it is, it's already sorted.\n",
    "2. Make a new variable for the left side and assign the array with an variable of the length of the array.\n",
    "3. Inside the array, split the length of the array with floor and divide it to the left.\n",
    "4. Make a new variable for the right side and assign the array with an variable of the length of the array.\n",
    "5. Inside the array, split the length of the array with floor and divide it to the right.\n",
    "6. Return the array in a converted list and put the __merge() function in it, followed by 2 times the original function for recursion.\n",
    "7. Unpack the left and right array and create a new empty list.\n",
    "8. Create 2 new variables for left and right in __merge().\n",
    "9. Create a while loop and check if the length of the 2 new variables is lower then the length of the unpacked arrays.\n",
    "10. Check if the unpacked array left are smaller then the unpacked array of right.\n",
    "11. If true, append to the new list with left and the new variable of that position and count it += 1.\n",
    "12. Else false, append to the new list with right and the new variable of that position and count it += 1.\n",
    "13. Outside the loop count left and right with the new variable of that position.\n",
    "14. Return the list."
   ]
  },
  {
   "cell_type": "code",
   "execution_count": 5,
   "metadata": {},
   "outputs": [
    {
     "name": "stdout",
     "output_type": "stream",
     "text": [
      "3. Original array:\n",
      "Array 1: [580, 5, 130, 562, 425, 43, 476, 865, 78, 151, 892, 525, 675, 433, 316, 952, 746, 224, 619, 498]\n",
      "Array 2: [0, 3, 15, 68, 65, 46, 18, 90, 40, 92, 58, 20, 52, 11, 84, 3, 18, 58, 57, 46]\n",
      "Array 3: [8, 8, 4, 2, 7, 4, 4, 7, 6, 3, 3, 9, 6, 0, 6, 2, 3, 1, 7, 6]\n",
      "Was completed in: 0.0003641s\n",
      "\n",
      "3. Merge Sort: \n",
      "Array 1: [5, 43, 78, 130, 151, 224, 316, 425, 433, 476, 498, 525, 562, 580, 619, 675, 746, 865, 892, 952]\n",
      "Array 2: [0, 3, 3, 11, 15, 18, 18, 20, 40, 46, 46, 52, 57, 58, 58, 65, 68, 84, 90, 92]\n",
      "Array 3: [0, 1, 2, 2, 3, 3, 3, 4, 4, 4, 6, 6, 6, 6, 7, 7, 7, 8, 8, 9]\n",
      "Was completed in: 0.0004969s\n",
      "\n"
     ]
    }
   ],
   "source": [
    "#3 Ik maak voor elk sorteeralgoritme een nieuwe methode aan die een integer array als parameter heeft en de integer array gesorteerd returnt.\n",
    "def __merge_sort(x: new.array[int]) -> list[int]:\n",
    "    if len(x) <= 1:\n",
    "        return list(x)\n",
    "    \n",
    "    left: new.array[int] = x[:len(x) // 2]\n",
    "    right: new.array[int] = x[len(x) // 2:]\n",
    "\n",
    "    return list(__merge(__merge_sort(left), __merge_sort(right)))\n",
    "\n",
    "def __merge(left: new.array[int], right: new.array[int]) -> list:\n",
    "    unsplit: list = []\n",
    "    merge_left: int = 0; merge_right: int = 0\n",
    "\n",
    "    while merge_left < len(left) and merge_right < len(right):\n",
    "        if left[merge_left] < right[merge_right]:\n",
    "            unsplit.append(left[merge_left])\n",
    "            merge_left += 1\n",
    "\n",
    "        else:\n",
    "            unsplit.append(right[merge_right])\n",
    "            merge_right += 1\n",
    "\n",
    "    unsplit += left[merge_left:]\n",
    "    unsplit += right[merge_right:]\n",
    "\n",
    "    return unsplit\n",
    "\n",
    "def __print_merge_sort() -> None:\n",
    "    # The variables shouldn't mutate the original arrays or timers\n",
    "    start: float = time.default_timer()\n",
    "    seventh: new.array[int] = first_array; eighth: new.array[int] = second_array; ninth: new.array[int] = third_array\n",
    "\n",
    "    print(f\"3. Original array:\\nArray 1: {list(seventh)}\\nArray 2: {list(eighth)}\\nArray 3: {list(ninth)}\")\n",
    "    print(f\"Was completed in: {round(time.default_timer() - start, PRECISION)}s\\n\")\n",
    "    print(f\"3. Merge Sort: \\nArray 1: {__merge_sort(seventh)}\")\n",
    "    print(f\"Array 2: {__merge_sort(eighth)}\")\n",
    "    print(f\"Array 3: {__merge_sort(ninth)}\\nWas completed in: {round(time.default_timer() - start, PRECISION)}s\\n\")\n",
    "\n",
    "__print_merge_sort()"
   ]
  }
 ],
 "metadata": {
  "kernelspec": {
   "display_name": "Python 3",
   "language": "python",
   "name": "python3"
  },
  "language_info": {
   "codemirror_mode": {
    "name": "ipython",
    "version": 3
   },
   "file_extension": ".py",
   "mimetype": "text/x-python",
   "name": "python",
   "nbconvert_exporter": "python",
   "pygments_lexer": "ipython3",
   "version": "3.12.2"
  }
 },
 "nbformat": 4,
 "nbformat_minor": 2
}
