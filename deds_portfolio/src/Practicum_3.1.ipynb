{
 "cells": [
  {
   "cell_type": "markdown",
   "metadata": {},
   "source": [
    "# Practicumopdracht"
   ]
  },
  {
   "cell_type": "markdown",
   "metadata": {},
   "source": [
    "Hieronder staan de practicumopdrachten beschreven waaraan tijdens de derde themaweek gewerkt wordt."
   ]
  },
  {
   "cell_type": "markdown",
   "metadata": {},
   "source": [
    "## Opdracht na HC 1"
   ]
  },
  {
   "cell_type": "markdown",
   "metadata": {},
   "source": [
    "1. Maak met python minimaal drie arrays van minimaal 20 willekeurige en niet gesorteerde integers (meer mag ook).\n",
    "\n",
    "2. Zoek op internet naar ten minste drie verschillende sorteeralgoritmes die je wilt gebruiken om de integer arrays mee te sorteren.Implementer je gekozen sorteeralgoritmes om de integer arrays mee te sorteren.\n",
    "\n",
    "3. Maak voor elk sorteeralgoritme een nieuwe methode aan die een integer array als parameter heeft en de integer array gesorteerd returnt.\n",
    "\n",
    "Kudos als je een moeilijk, super efficient of creatief algoritme kunt vinden óf zelfs bedenken ;)"
   ]
  },
  {
   "cell_type": "code",
   "execution_count": 75,
   "metadata": {},
   "outputs": [],
   "source": [
    "import array as new;\n",
    "import timeit as time;\n",
    "import random as random;"
   ]
  },
  {
   "cell_type": "code",
   "execution_count": 76,
   "metadata": {},
   "outputs": [],
   "source": [
    "#1. Ik maak met python minimaal drie arrays van minimaal 20 willekeurige en niet gesorteerde integers (meer mag ook).\n",
    "first_array: new.array[int] = new.array(\"I\", [])\n",
    "second_array: new.array[int] = new.array(\"I\", [])\n",
    "third_array: new.array[int] = new.array(\"I\", [])\n",
    "\n",
    "for _ in range(20):\n",
    "    first_array.append(random.randrange(0, 1000))\n",
    "    second_array.append(random.randrange(0, 100))\n",
    "    third_array.append(random.randrange(0, 10))"
   ]
  },
  {
   "cell_type": "code",
   "execution_count": 77,
   "metadata": {},
   "outputs": [
    {
     "name": "stdout",
     "output_type": "stream",
     "text": [
      "Help on built-in function sorted in module builtins:\n",
      "\n",
      "sorted(iterable, /, *, key=None, reverse=False)\n",
      "    Return a new list containing all items from the iterable in ascending order.\n",
      "\n",
      "    A custom key function can be supplied to customize the sort order, and the\n",
      "    reverse flag can be set to request the result in descending order.\n",
      "\n",
      "\n",
      "\n",
      "Help on function <lambda> in module __main__:\n",
      "\n",
      "<lambda> lambda x\n",
      "\n"
     ]
    }
   ],
   "source": [
    "help(sorted)\n",
    "print(\"\\n\")\n",
    "help(lambda x: x)"
   ]
  },
  {
   "cell_type": "code",
   "execution_count": 78,
   "metadata": {},
   "outputs": [],
   "source": [
    "#2. Ik zoek op internet naar ten minste drie verschillende sorteeralgoritmes die ik wil gebruiken om de integer arrays mee te sorteren. \n",
    "#2. Ik implementer mijn gekozen sorteeralgoritmes (in de volgende opdracht) om de integer arrays mee te sorteren."
   ]
  },
  {
   "cell_type": "code",
   "execution_count": 79,
   "metadata": {},
   "outputs": [
    {
     "name": "stdout",
     "output_type": "stream",
     "text": [
      "1. Tim Sort: \n",
      "Array 1: [19, 53, 104, 158, 170, 246, 280, 280, 336, 458, 470, 487, 590, 667, 690, 710, 782, 854, 977, 998]\n",
      "Array 2: [6, 8, 10, 10, 14, 15, 30, 30, 31, 31, 32, 35, 35, 42, 44, 53, 57, 73, 77, 98]\n",
      "Array 3: [0, 0, 0, 0, 0, 0, 1, 2, 3, 5, 5, 5, 5, 6, 6, 7, 7, 8, 8, 9]\n",
      "Was Completed in: 0.00039s\n",
      "\n",
      "2. Insertion Sort: \n",
      "Array 1: array('I', [19, 53, 104, 158, 170, 246, 280, 280, 336, 458, 470, 487, 590, 667, 690, 710, 782, 854, 977, 998])\n",
      "Array 2: array('I', [6, 8, 10, 10, 14, 15, 30, 30, 31, 31, 32, 35, 35, 42, 44, 53, 57, 73, 77, 98])\n",
      "Array 3: array('I', [0, 0, 0, 0, 0, 0, 1, 2, 3, 5, 5, 5, 5, 6, 6, 7, 7, 8, 8, 9])\n",
      "Was Completed in: 0.00061s\n",
      "\n"
     ]
    }
   ],
   "source": [
    "#3 Ik maak voor elk sorteeralgoritme een nieuwe methode aan die een integer array als parameter heeft en de integer array gesorteerd returnt.\n",
    "def __tim_sort(x: new.array[int]) -> new.array[int]:\n",
    "    return sorted(x)\n",
    "\n",
    "def __insertion_sort(x: new.array[int]) -> new.array[int]:\n",
    "    for i in range(1, len(x)):\n",
    "        if len(x) <= 1:\n",
    "            break\n",
    "        \n",
    "        key: int = x[i]\n",
    "        j: int = i - 1\n",
    "\n",
    "        while j >= 0 and key < x[j]:\n",
    "            x[j + 1] = x[j]\n",
    "            j -= 1\n",
    "            x[j + 1] = key\n",
    "\n",
    "    return x\n",
    "\n",
    "start: float = time.default_timer()\n",
    "\n",
    "print(f\"1. Tim Sort: \\nArray 1: {__tim_sort(first_array)}\")\n",
    "print(f\"Array 2: {__tim_sort(second_array)}\")\n",
    "print(f\"Array 3: {__tim_sort(third_array)}\\nWas Completed in: {round(time.default_timer() - start, 5)}s\\n\")\n",
    "\n",
    "print(f\"2. Insertion Sort: \\nArray 1: {__insertion_sort(first_array)}\")\n",
    "print(f\"Array 2: {__insertion_sort(second_array)}\")\n",
    "print(f\"Array 3: {__insertion_sort(third_array)}\\nWas Completed in: {round(time.default_timer() - start, 5)}s\\n\")"
   ]
  }
 ],
 "metadata": {
  "kernelspec": {
   "display_name": "Python 3",
   "language": "python",
   "name": "python3"
  },
  "language_info": {
   "codemirror_mode": {
    "name": "ipython",
    "version": 3
   },
   "file_extension": ".py",
   "mimetype": "text/x-python",
   "name": "python",
   "nbconvert_exporter": "python",
   "pygments_lexer": "ipython3",
   "version": "3.12.2"
  }
 },
 "nbformat": 4,
 "nbformat_minor": 2
}
