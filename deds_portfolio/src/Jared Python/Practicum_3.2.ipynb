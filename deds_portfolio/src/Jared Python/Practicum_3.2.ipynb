{
 "cells": [
  {
   "cell_type": "markdown",
   "metadata": {},
   "source": [
    "# Practicumopdracht"
   ]
  },
  {
   "cell_type": "markdown",
   "metadata": {},
   "source": [
    "Hieronder staan de practicumopdrachten beschreven waaraan tijdens de derde themaweek gewerkt wordt."
   ]
  },
  {
   "cell_type": "markdown",
   "metadata": {},
   "source": [
    "## Opdracht na HC 2"
   ]
  },
  {
   "cell_type": "markdown",
   "metadata": {},
   "source": [
    "https://www.geeksforgeeks.org/python-data-structures/\n",
    "\n",
    "1. Bestudeer de link hierboven om bekend te raken met de datastructuren van Python\n",
    "\n",
    "2. Kies ten minste drie van de datastructuren van python uit\n",
    "\n",
    "3. Zoek online op per datastructuur die je gekozen hebt hoe deze wordt gebruikt in een bekend algoritme en onderzoek (zoek op) daarvan de complexiteit (big oh). Zorg ervoor dat je de big oh kunt onderbouwen.\n",
    "\n",
    "4. Schrijf een Python programma waarin je de datastructuren gebruikt om data in op te slaan en weer op te halen. Hiervoor mag je een bekend algoritme gebruiken, maar dat hoeft niet.\n",
    "\n",
    "5. Schrijf je bevindingen op in je portfolio. Onderbouw de big oh.\n",
    "\n",
    "Gebruik geen chatgpt. Je mag natuurlijk wel je docent vragen stellen ;)"
   ]
  },
  {
   "cell_type": "code",
   "execution_count": 391,
   "metadata": {},
   "outputs": [],
   "source": [
    "#1. Ik bestudeer de link hierboven om bekend te raken met de datastructuren van Python."
   ]
  },
  {
   "cell_type": "code",
   "execution_count": 392,
   "metadata": {},
   "outputs": [],
   "source": [
    "#2. Ik kies ten minste drie van de datastructuren van python uit.\n",
    "from collections import deque;\n",
    "import random as rand;\n",
    "\n",
    "datastructure_one: list = []\n",
    "datastructure_two: set = set({})\n",
    "datastructure_three: deque = deque([])"
   ]
  },
  {
   "cell_type": "code",
   "execution_count": 393,
   "metadata": {},
   "outputs": [],
   "source": [
    "#3 Ik zoek online op per datastructuur die ik gekozen heb hoe deze wordt gebruikt in een bekend algoritme. \n",
    "#3 Ik onderzoek (zoek op) daarvan de complexiteit (big oh).\n",
    "#3 Ik zorg ervoor dat ik de big oh kan onderbouwen."
   ]
  },
  {
   "cell_type": "markdown",
   "metadata": {},
   "source": [
    "## Algorithm data structures\n",
    "List - Interpolation Search<br/>\n",
    "Set - Hashing<br/>\n",
    "Deque - First Come First Served<br/>\n",
    "\n",
    "## Space complexity data structures\n",
    "List - Append O(1), Get O(1)<br/>\n",
    "Set - Add O(n) Get O(n)<br/>\n",
    "Deque - Append O(1), Get O(1)"
   ]
  },
  {
   "cell_type": "markdown",
   "metadata": {},
   "source": [
    "## List 1/3"
   ]
  },
  {
   "cell_type": "code",
   "execution_count": 400,
   "metadata": {},
   "outputs": [
    {
     "name": "stdout",
     "output_type": "stream",
     "text": [
      "1. List contains items with the values:\n",
      "[52, 86, 39, 14, 61]\n"
     ]
    }
   ],
   "source": [
    "#4 Ik schrijf een Python programma waarin ik de datastructuren gebruik om data in op te slaan en weer op te halen. \n",
    "#4 Hiervoor kan ik een bekend algoritme gebruiken, maar dat hoeft niet.\n",
    "def __list_store(x: list, item: int) -> list:\n",
    "    return x.append(item)\n",
    "\n",
    "def __list_get(x: list) -> None:\n",
    "    print(f\"1. List contains items with the values:\\n{x}\")\n",
    "\n",
    "__list_store(datastructure_one, rand.randrange(0, 100))\n",
    "__list_get(datastructure_one)"
   ]
  },
  {
   "cell_type": "markdown",
   "metadata": {},
   "source": [
    "## Set 2/3"
   ]
  },
  {
   "cell_type": "code",
   "execution_count": 401,
   "metadata": {},
   "outputs": [
    {
     "name": "stdout",
     "output_type": "stream",
     "text": [
      "2. Set contains items with the values:\n",
      "{'ICE', 'Eurostar', 'Thalys'}\n",
      "\n",
      "2. Set contains items with the values:\n",
      "{'Thalys', 'Mercedes', 'Ferrari', 'Red Bull', 'Eurostar', 'ICE'}\n",
      "\n",
      "2. Set contains items with the values:\n",
      "['Eurostar', 'Ferrari', 'ICE', 'Mercedes', 'Red Bull', 'Thalys']\n",
      "\n"
     ]
    }
   ],
   "source": [
    "#4 Ik schrijf een Python programma waarin ik de datastructuren gebruik om data in op te slaan en weer op te halen. \n",
    "#4 Hiervoor kan ik een bekend algoritme gebruiken, maar dat hoeft niet.\n",
    "def __set_store(x: set, item: str) -> set:\n",
    "    return x.add(item)\n",
    "\n",
    "def __set_union(x: set, f1_clubs: set) -> set:\n",
    "    return x.union(f1_clubs)\n",
    "\n",
    "#set that is sorted and combined together.\n",
    "def __set_sorted_union(x: set, f1_clubs: set) -> set:\n",
    "    return sorted(x.union(f1_clubs))\n",
    "\n",
    "def __set_get(x: set) -> None:\n",
    "    print(f\"2. Set contains items with the values:\\n{x}\\n\")\n",
    "\n",
    "f1_clubs: set = {\"Mercedes\", \"Red Bull\", \"Ferrari\"}\n",
    "\n",
    "__set_store(datastructure_two, \"Thalys\")\n",
    "__set_store(datastructure_two, \"Eurostar\")\n",
    "__set_store(datastructure_two, \"ICE\")\n",
    "__set_get(datastructure_two)\n",
    "__set_get(__set_union(datastructure_two, f1_clubs))\n",
    "__set_get(__set_sorted_union(datastructure_two, f1_clubs))"
   ]
  },
  {
   "cell_type": "markdown",
   "metadata": {},
   "source": [
    "## Deque 3/3"
   ]
  },
  {
   "cell_type": "code",
   "execution_count": 405,
   "metadata": {},
   "outputs": [
    {
     "name": "stdout",
     "output_type": "stream",
     "text": [
      "3. Deque contains items with the values:\n",
      "deque(['Counter Strike Global Offensive 2', 'The Witcher', 35, 29, 'Doom'])\n",
      "\n"
     ]
    }
   ],
   "source": [
    "#4 Ik schrijf een Python programma waarin ik de datastructuren gebruik om data in op te slaan en weer op te halen. \n",
    "#4 Hiervoor kan ik een bekend algoritme gebruiken, maar dat hoeft niet.\n",
    "#Appends to the right of the deque\n",
    "def __deque_store(x: deque, item: str) -> deque:\n",
    "    return x.append(item)\n",
    "\n",
    "#Appends to the left of the deque\n",
    "def __deque_store_left(x: deque, item: str) -> deque:\n",
    "    return x.appendleft(item)\n",
    "\n",
    "def __deque_get(x: deque) -> None:\n",
    "    print(f\"3. Deque contains items with the values:\\n{x}\\n\")\n",
    "\n",
    "games_ornot: list = [\"Strike Force Heroes\", \"Counter Strike Global Offensive 2\", \"Doom\", \"The Witcher\", rand.randrange(0, 100)]\n",
    "\n",
    "#__deque_store(datastructure_three, rand.choice(games_ornot)) #After 3 appends, deque([35, 29, 'Doom'])\n",
    "#After 2 appends, deque(['Counter Strike Global Offensive 2', 'The Witcher', 35, 29, 'Doom']\n",
    "__deque_store_left(datastructure_three, rand.choice(games_ornot))\n",
    "__deque_get(datastructure_three)"
   ]
  },
  {
   "cell_type": "code",
   "execution_count": null,
   "metadata": {},
   "outputs": [],
   "source": [
    "#5. Ik schrijf mijn bevindingen op in mijn portfolio (maar eigenlijk hier). Ik onderbouw de big oh."
   ]
  }
 ],
 "metadata": {
  "kernelspec": {
   "display_name": "Python 3",
   "language": "python",
   "name": "python3"
  },
  "language_info": {
   "codemirror_mode": {
    "name": "ipython",
    "version": 3
   },
   "file_extension": ".py",
   "mimetype": "text/x-python",
   "name": "python",
   "nbconvert_exporter": "python",
   "pygments_lexer": "ipython3",
   "version": "3.12.2"
  }
 },
 "nbformat": 4,
 "nbformat_minor": 2
}
