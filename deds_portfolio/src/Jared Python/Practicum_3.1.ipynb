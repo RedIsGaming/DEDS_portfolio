{
 "cells": [
  {
   "cell_type": "markdown",
   "metadata": {},
   "source": [
    "# Practicumopdracht"
   ]
  },
  {
   "cell_type": "markdown",
   "metadata": {},
   "source": [
    "Hieronder staan de practicumopdrachten beschreven waaraan tijdens de derde themaweek gewerkt wordt."
   ]
  },
  {
   "cell_type": "markdown",
   "metadata": {},
   "source": [
    "## Opdracht na HC 1"
   ]
  },
  {
   "cell_type": "markdown",
   "metadata": {},
   "source": [
    "1. Maak met python minimaal drie arrays van minimaal 20 willekeurige en niet gesorteerde integers (meer mag ook).\n",
    "\n",
    "2. Zoek op internet naar ten minste drie verschillende sorteeralgoritmes die je wilt gebruiken om de integer arrays mee te sorteren.Implementer je gekozen sorteeralgoritmes om de integer arrays mee te sorteren.\n",
    "\n",
    "3. Maak voor elk sorteeralgoritme een nieuwe methode aan die een integer array als parameter heeft en de integer array gesorteerd returnt.\n",
    "\n",
    "Kudos als je een moeilijk, super efficient of creatief algoritme kunt vinden óf zelfs bedenken ;)"
   ]
  },
  {
   "cell_type": "code",
   "execution_count": 48,
   "metadata": {},
   "outputs": [],
   "source": [
    "import array as new;\n",
    "import timeit as time;\n",
    "import random as rand;"
   ]
  },
  {
   "cell_type": "code",
   "execution_count": 49,
   "metadata": {},
   "outputs": [],
   "source": [
    "#1. Ik maak met python minimaal drie arrays van minimaal 20 willekeurige en niet gesorteerde integers (meer mag ook).\n",
    "first_array: new.array[int] = new.array(\"I\", [rand.randrange(0, 1000) for _ in range(20)])\n",
    "second_array: new.array[int] = new.array(\"I\", [rand.randrange(0, 100) for _ in range(20)])\n",
    "third_array: new.array[int] = new.array(\"I\", [rand.randrange(0, 10) for _ in range(20)])"
   ]
  },
  {
   "cell_type": "code",
   "execution_count": 50,
   "metadata": {},
   "outputs": [
    {
     "name": "stdout",
     "output_type": "stream",
     "text": [
      "Help on built-in function sorted in module builtins:\n",
      "\n",
      "sorted(iterable, /, *, key=None, reverse=False)\n",
      "    Return a new list containing all items from the iterable in ascending order.\n",
      "\n",
      "    A custom key function can be supplied to customize the sort order, and the\n",
      "    reverse flag can be set to request the result in descending order.\n",
      "\n",
      "\n",
      "\n",
      "Help on function <lambda> in module __main__:\n",
      "\n",
      "<lambda> lambda x\n",
      "\n",
      "No Python documentation found for '100'.\n",
      "Use help() to get the interactive help utility.\n",
      "Use help(str) for help on the str class.\n",
      "\n"
     ]
    }
   ],
   "source": [
    "help(sorted)\n",
    "print(\"\\n\")\n",
    "help(lambda x: x)\n",
    "help(str(100).zfill(3))"
   ]
  },
  {
   "cell_type": "code",
   "execution_count": 51,
   "metadata": {},
   "outputs": [],
   "source": [
    "#2. Ik zoek op internet naar ten minste drie verschillende sorteeralgoritmes die ik wil gebruiken om de integer arrays mee te sorteren. \n",
    "#2. Ik implementer mijn gekozen sorteeralgoritmes (in de volgende opdracht) om de integer arrays mee te sorteren.\n",
    "PRECISION = 8"
   ]
  },
  {
   "cell_type": "markdown",
   "metadata": {},
   "source": [
    "## Tim Sort 1/4"
   ]
  },
  {
   "cell_type": "markdown",
   "metadata": {},
   "source": [
    "The Tim Sort is a powerful and effective sorting algorithm, that combines the power of Insertion- and Merge Sort. Python has a built-in sorted function that can be used to deliver a quick effective way of sorting element in an array or list/dict."
   ]
  },
  {
   "cell_type": "code",
   "execution_count": 52,
   "metadata": {},
   "outputs": [
    {
     "name": "stdout",
     "output_type": "stream",
     "text": [
      "1. Original array:\n",
      "Array 1: [303, 618, 206, 185, 221, 374, 291, 880, 212, 298, 411, 504, 648, 375, 22, 930, 69, 652, 985, 268]\n",
      "Array 2: [57, 33, 21, 7, 65, 30, 62, 13, 42, 65, 72, 45, 6, 9, 50, 6, 89, 16, 98, 38]\n",
      "Array 3: [1, 6, 1, 8, 6, 1, 9, 9, 3, 6, 0, 7, 1, 1, 8, 6, 1, 7, 3, 8]\n",
      "Was completed in: 0.0004023s\n",
      "\n",
      "1. Tim Sort: \n",
      "Array 1: [22, 69, 185, 206, 212, 221, 268, 291, 298, 303, 374, 375, 411, 504, 618, 648, 652, 880, 930, 985]\n",
      "Array 2: [6, 6, 7, 9, 13, 16, 21, 30, 33, 38, 42, 45, 50, 57, 62, 65, 65, 72, 89, 98]\n",
      "Array 3: [0, 1, 1, 1, 1, 1, 1, 3, 3, 6, 6, 6, 6, 7, 7, 8, 8, 8, 9, 9]\n",
      "Was completed in: 0.0004766s\n",
      "\n",
      "Total execution time was: 0.0008812s\n"
     ]
    }
   ],
   "source": [
    "#3 Ik maak voor elk sorteeralgoritme een nieuwe methode aan die een integer array als parameter heeft en de integer array gesorteerd returnt.\n",
    "def __tim_sort(x: new.array[int]) -> new.array[int]:\n",
    "    return sorted(x)\n",
    "\n",
    "def __print_tim_sort() -> None:\n",
    "    # The variables shouldn't mutate the original arrays or timers\n",
    "    start: float = time.default_timer()\n",
    "    \n",
    "    print(f\"1. Original array:\\nArray 1: {list(first_array)}\\nArray 2: {list(second_array)}\\nArray 3: {list(third_array)}\")\n",
    "    original: float = round(time.default_timer() - start, PRECISION)\n",
    "\n",
    "    print(f\"Was completed in: {round(time.default_timer() - start, PRECISION)}s\\n\")\n",
    "    print(f\"1. Tim Sort: \\nArray 1: {__tim_sort(first_array)}\")\n",
    "    print(f\"Array 2: {__tim_sort(second_array)}\")\n",
    "    print(f\"Array 3: {__tim_sort(third_array)}\\nWas completed in: {round(time.default_timer() - start, PRECISION)}s\\n\")\n",
    "    print(f\"Total execution time was: {round(time.default_timer() - start + original, PRECISION)}s\")\n",
    "\n",
    "__print_tim_sort()"
   ]
  },
  {
   "cell_type": "markdown",
   "metadata": {},
   "source": [
    "## Speed of Tim Sort\n",
    "\n",
    "10 tests are run for this sort from the result of the new array. The old array and the total result can be displayed above.\n",
    "20 items times 3 were tested.\n",
    "\n",
    "### <b><span style=\"color:green\">Tim Sort 1/4</span></b>\n",
    "Start to end:\n",
    "1. 0.0004232s\n",
    "2. 0.0000930s\n",
    "3. 0.0001091s\n",
    "4. 0.0000887s\n",
    "5. 0.0002940s\n",
    "\n",
    "6. 0.0000956s\n",
    "7. 0.0000928s\n",
    "8. 0.0001260s\n",
    "9. 0.0001564s\n",
    "10. 0.0000934s\n",
    "\n",
    "DESC Sorted:\n",
    "1. 0.0004232s\n",
    "2. 0.0002940s\n",
    "3. 0.0001564s\n",
    "4. 0.0001260s\n",
    "5. 0.0001091s\n",
    "\n",
    "6. 0.0000956s\n",
    "7. 0.0000934s\n",
    "8. 0.0000930s\n",
    "9. 0.0000928s\n",
    "10. 0.0000887s"
   ]
  },
  {
   "cell_type": "markdown",
   "metadata": {},
   "source": [
    "## Insertion Sort 2/4"
   ]
  },
  {
   "cell_type": "markdown",
   "metadata": {},
   "source": [
    "1. Check if array length is equal to 1 or lower. If it is, it's already sorted.\n",
    "2. Loop through the array and assign the variable to the key.\n",
    "3. Create a new variable with the variable of the loop and substract with 1.\n",
    "4. Create a while loop where the new variable is equal or bigger then 0 and where the key is smaller then the array of the new variable.\n",
    "5. Put the Array where it's one higher then the original array.\n",
    "6. Substract 1 every time of the new variable.\n",
    "7. Assign the key to the array where the array is one higher of the original.\n",
    "8. Return the Array."
   ]
  },
  {
   "cell_type": "code",
   "execution_count": 53,
   "metadata": {},
   "outputs": [
    {
     "name": "stdout",
     "output_type": "stream",
     "text": [
      "2. Original array:\n",
      "Array 1: [303, 618, 206, 185, 221, 374, 291, 880, 212, 298, 411, 504, 648, 375, 22, 930, 69, 652, 985, 268]\n",
      "Array 2: [57, 33, 21, 7, 65, 30, 62, 13, 42, 65, 72, 45, 6, 9, 50, 6, 89, 16, 98, 38]\n",
      "Array 3: [1, 6, 1, 8, 6, 1, 9, 9, 3, 6, 0, 7, 1, 1, 8, 6, 1, 7, 3, 8]\n",
      "Was completed in: 0.0004374s\n",
      "\n",
      "Total execution time was: 0.0008806s\n"
     ]
    }
   ],
   "source": [
    "#3 Ik maak voor elk sorteeralgoritme een nieuwe methode aan die een integer array als parameter heeft en de integer array gesorteerd returnt.\n",
    "def __insertion_sort(x: new.array[int]) -> list[int]:\n",
    "    for i in range(1, len(x)):\n",
    "        if len(x) <= 1:\n",
    "            break\n",
    "        \n",
    "        key: int = x[i]\n",
    "        j: int = i - 1\n",
    "\n",
    "        while j >= 0 and key < x[j]:\n",
    "            x[j + 1] = x[j]\n",
    "            j -= 1\n",
    "            x[j + 1] = key\n",
    "\n",
    "    return list(x)\n",
    "\n",
    "def __print_insertion_sort() -> None:\n",
    "    # The variables shouldn't mutate the original arrays or timers\n",
    "    start: float = time.default_timer()\n",
    "    \n",
    "    print(f\"2. Original array:\\nArray 1: {list(first_array)}\\nArray 2: {list(second_array)}\\nArray 3: {list(third_array)}\")\n",
    "    original: float = round(time.default_timer() - start, PRECISION)\n",
    "\n",
    "    print(f\"Was completed in: {round(time.default_timer() - start, PRECISION)}s\\n\")\n",
    "    # This mutates the original arrays, so when you want to use this, uncomment the following lines.\n",
    "    # print(f\"2. Insertion Sort: \\nArray 1: {__insertion_sort(first_array)}\")\n",
    "    # print(f\"Array 2: {__insertion_sort(second_array)}\")\n",
    "    # print(f\"Array 3: {__insertion_sort(third_array)}\\nWas completed in: {round(time.default_timer() - start, PRECISION)}s\\n\")\n",
    "    print(f\"Total execution time was: {round(time.default_timer() - start + original, PRECISION)}s\")\n",
    "\n",
    "__print_insertion_sort()"
   ]
  },
  {
   "cell_type": "markdown",
   "metadata": {},
   "source": [
    "## Speed of Insertion Sort\n",
    "\n",
    "10 tests are run for this sort from the result of the new array. The old array and the total result can be displayed above.\n",
    "20 items times 3 were tested.\n",
    "\n",
    "### <b><span style=\"color:green\">Insertion Sort 2/4</span></b>\n",
    "Start to end:\n",
    "1. 0.0002646s\n",
    "2. 0.0001531s\n",
    "3. 0.0001588s\n",
    "4. 0.0001510s\n",
    "5. 0.0004510s\n",
    "\n",
    "6. 0.0001437s\n",
    "7. 0.0001777s\n",
    "8. 0.0003071s\n",
    "9. 0.0002984s\n",
    "10. 0.0001336s\n",
    "\n",
    "DESC Sorted:\n",
    "1. 0.0004510s\n",
    "2. 0.0003071s\n",
    "3. 0.0002984s\n",
    "4. 0.0002646s\n",
    "5. 0.0001777s\n",
    "\n",
    "6. 0.0001588s\n",
    "7. 0.0001531s\n",
    "8. 0.0001510s\n",
    "9. 0.0001437s\n",
    "10. 0.0001336s"
   ]
  },
  {
   "cell_type": "markdown",
   "metadata": {},
   "source": [
    "## Merge Sort 3/4"
   ]
  },
  {
   "cell_type": "markdown",
   "metadata": {},
   "source": [
    "1. Check if array length is equal to 1 or lower. If it is, it's already sorted.\n",
    "2. Make a new variable for the left side and assign the array with an variable of the length of the array.\n",
    "3. Inside the array, split the length of the array with floor and divide it to the left.\n",
    "4. Make a new variable for the right side and assign the array with an variable of the length of the array.\n",
    "5. Inside the array, split the length of the array with floor and divide it to the right.\n",
    "6. Return the array in a converted list and put the __merge() function in it, followed by 2 times the original function for recursion.\n",
    "7. Unpack the left and right array and create a new empty list.\n",
    "8. Create 2 new variables for left and right in __merge().\n",
    "9. Create a while loop and check if the length of the 2 new variables is lower then the length of the unpacked arrays.\n",
    "10. Check if the unpacked array left are smaller then the unpacked array of right.\n",
    "11. If true, append to the new list with left and the new variable of that position and count it += 1.\n",
    "12. Else false, append to the new list with right and the new variable of that position and count it += 1.\n",
    "13. Outside the loop count left and right with the new variable of that position.\n",
    "14. Return the list."
   ]
  },
  {
   "cell_type": "code",
   "execution_count": 54,
   "metadata": {},
   "outputs": [
    {
     "name": "stdout",
     "output_type": "stream",
     "text": [
      "3. Original array:\n",
      "Array 1: [303, 618, 206, 185, 221, 374, 291, 880, 212, 298, 411, 504, 648, 375, 22, 930, 69, 652, 985, 268]\n",
      "Array 2: [57, 33, 21, 7, 65, 30, 62, 13, 42, 65, 72, 45, 6, 9, 50, 6, 89, 16, 98, 38]\n",
      "Array 3: [1, 6, 1, 8, 6, 1, 9, 9, 3, 6, 0, 7, 1, 1, 8, 6, 1, 7, 3, 8]\n",
      "Was completed in: 0.0001293s\n",
      "\n",
      "3. Merge Sort: \n",
      "Array 1: [22, 69, 185, 206, 212, 221, 268, 291, 298, 303, 374, 375, 411, 504, 618, 648, 652, 880, 930, 985]\n",
      "Array 2: [6, 6, 7, 9, 13, 16, 21, 30, 33, 38, 42, 45, 50, 57, 62, 65, 65, 72, 89, 98]\n",
      "Array 3: [0, 1, 1, 1, 1, 1, 1, 3, 3, 6, 6, 6, 6, 7, 7, 8, 8, 8, 9, 9]\n",
      "Was completed in: 0.0007766s\n",
      "\n",
      "Total execution time was: 0.0009167s\n"
     ]
    }
   ],
   "source": [
    "#3 Ik maak voor elk sorteeralgoritme een nieuwe methode aan die een integer array als parameter heeft en de integer array gesorteerd returnt.\n",
    "def __merge_sort(x: new.array[int]) -> list[int]:\n",
    "    if len(x) <= 1:\n",
    "        return list(x)\n",
    "    \n",
    "    left: new.array[int] = x[:len(x) // 2]\n",
    "    right: new.array[int] = x[len(x) // 2:]\n",
    "\n",
    "    return list(__merge(__merge_sort(left), __merge_sort(right)))\n",
    "\n",
    "def __merge(left: new.array[int], right: new.array[int]) -> list:\n",
    "    unsplit: list = []\n",
    "    merge_left: int = 0; merge_right: int = 0\n",
    "\n",
    "    while merge_left < len(left) and merge_right < len(right):\n",
    "        if left[merge_left] < right[merge_right]:\n",
    "            unsplit.append(left[merge_left])\n",
    "            merge_left += 1\n",
    "\n",
    "        else:\n",
    "            unsplit.append(right[merge_right])\n",
    "            merge_right += 1\n",
    "\n",
    "    unsplit += left[merge_left:]\n",
    "    unsplit += right[merge_right:]\n",
    "\n",
    "    return unsplit\n",
    "\n",
    "def __print_merge_sort() -> None:\n",
    "    # The variables shouldn't mutate the original arrays or timers\n",
    "    start: float = time.default_timer()\n",
    "    \n",
    "    print(f\"3. Original array:\\nArray 1: {list(first_array)}\\nArray 2: {list(second_array)}\\nArray 3: {list(third_array)}\")\n",
    "    original: float = round(time.default_timer() - start, PRECISION)\n",
    "\n",
    "    print(f\"Was completed in: {round(time.default_timer() - start, PRECISION)}s\\n\")\n",
    "    print(f\"3. Merge Sort: \\nArray 1: {__merge_sort(first_array)}\")\n",
    "    print(f\"Array 2: {__merge_sort(second_array)}\")\n",
    "    print(f\"Array 3: {__merge_sort(third_array)}\\nWas completed in: {round(time.default_timer() - start, PRECISION)}s\\n\")\n",
    "    print(f\"Total execution time was: {round(time.default_timer() - start + original, PRECISION)}s\")\n",
    "\n",
    "__print_merge_sort()"
   ]
  },
  {
   "cell_type": "markdown",
   "metadata": {},
   "source": [
    "## Speed of Merge Sort\n",
    "\n",
    "10 tests are run for this sort from the result of the new array. The old array and the total result can be displayed above.\n",
    "20 items times 3 were tested.\n",
    "\n",
    "### <b><span style=\"color:green\">Merge Sort 3/4</span></b>\n",
    "Start to end:\n",
    "1. 0.0001736s\n",
    "2. 0.0003525s\n",
    "3. 0.0002442s\n",
    "4. 0.0002017s\n",
    "5. 0.0003586s\n",
    "\n",
    "6. 0.0002693s\n",
    "7. 0.0003441s\n",
    "8. 0.0005867s\n",
    "9. 0.0004089s\n",
    "10. 0.0004006s\n",
    "\n",
    "DESC Sorted:\n",
    "1. 0.0005867s\n",
    "2. 0.0004089s\n",
    "3. 0.0004006s\n",
    "4. 0.0003586s\n",
    "5. 0.0003525s\n",
    "\n",
    "6. 0.0003441s\n",
    "7. 0.0002693s\n",
    "8. 0.0002442s\n",
    "9. 0.0002017s\n",
    "10. 0.0001736s"
   ]
  },
  {
   "cell_type": "markdown",
   "metadata": {},
   "source": [
    "## Radix Sort 4/4"
   ]
  },
  {
   "cell_type": "markdown",
   "metadata": {},
   "source": [
    "1. Find the highest number in the array with the highest number of digits.\n",
    "2. Pad and fill the highest number in the array with the highest number of digits with zeroes on the left. Only works on str.\n",
    "3. Make a loop that goes through all the digits from the lowest to highest.\n",
    "4. Make a bucket from 0 to 10.\n",
    "5. Make a nested loop with the contents of the padded number from the original array of radix.\n",
    "6. Add the content of the variable with the original array of radix in the bucket.\n",
    "7. Convert the variable to int and add it to the bucket.\n",
    "8. Overwrite the radix variable to get the bucket back sorted.\n",
    "9. Convert the radix to an int and assign to a new variable.\n",
    "10. Return the list with the new variable."
   ]
  },
  {
   "cell_type": "code",
   "execution_count": 55,
   "metadata": {},
   "outputs": [
    {
     "name": "stdout",
     "output_type": "stream",
     "text": [
      "4. Original array:\n",
      "Array 1: [303, 618, 206, 185, 221, 374, 291, 880, 212, 298, 411, 504, 648, 375, 22, 930, 69, 652, 985, 268]\n",
      "Array 2: [57, 33, 21, 7, 65, 30, 62, 13, 42, 65, 72, 45, 6, 9, 50, 6, 89, 16, 98, 38]\n",
      "Array 3: [1, 6, 1, 8, 6, 1, 9, 9, 3, 6, 0, 7, 1, 1, 8, 6, 1, 7, 3, 8]\n",
      "Was completed in: 0.0001175s\n",
      "\n",
      "4. Radix Sort: \n",
      "Array 1: [22, 69, 185, 206, 212, 221, 268, 291, 298, 303, 374, 375, 411, 504, 618, 648, 652, 880, 930, 985]\n",
      "Array 2: [6, 6, 7, 9, 13, 16, 21, 30, 33, 38, 42, 45, 50, 57, 62, 65, 65, 72, 89, 98]\n",
      "Array 3: [0, 1, 1, 1, 1, 1, 1, 3, 3, 6, 6, 6, 6, 7, 7, 8, 8, 8, 9, 9]\n",
      "Was completed in: 0.0002907s\n",
      "\n",
      "Total execution time was: 0.0004131s\n"
     ]
    }
   ],
   "source": [
    "#3 Ik maak voor elk sorteeralgoritme een nieuwe methode aan die een integer array als parameter heeft en de integer array gesorteerd returnt.\n",
    "def __radix_sort(x: new.array[int]) -> list[int]:\n",
    "    sort_max: int = len(str(max(x)))\n",
    "    radix: list[str] = [str(pad).zfill(sort_max) for pad in x]\n",
    "\n",
    "    for i in range(sort_max - 1, -1, -1):\n",
    "        bucket: list[list] = [[] for _ in range(10)]\n",
    "\n",
    "        for j in radix:\n",
    "            bucket[int(j[i])].append(j)\n",
    "\n",
    "        radix: list[str] = [rad for y in bucket for rad in y]\n",
    "\n",
    "    new_radix: list[int] = [int(rad) for rad in radix]\n",
    "    return new_radix\n",
    "\n",
    "def __print_radix_sort() -> None:\n",
    "    # The variables shouldn't mutate the original arrays or timers\n",
    "    start: float = time.default_timer()\n",
    "    \n",
    "    print(f\"4. Original array:\\nArray 1: {list(first_array)}\\nArray 2: {list(second_array)}\\nArray 3: {list(third_array)}\")\n",
    "    original: float = round(time.default_timer() - start, PRECISION)\n",
    "\n",
    "    print(f\"Was completed in: {round(time.default_timer() - start, PRECISION)}s\\n\")\n",
    "    print(f\"4. Radix Sort: \\nArray 1: {__radix_sort(first_array)}\")\n",
    "    print(f\"Array 2: {__radix_sort(second_array)}\")\n",
    "    print(f\"Array 3: {__radix_sort(third_array)}\\nWas completed in: {round(time.default_timer() - start, PRECISION)}s\\n\")\n",
    "    print(f\"Total execution time was: {round(time.default_timer() - start + original, PRECISION)}s\")\n",
    "\n",
    "__print_radix_sort()"
   ]
  },
  {
   "cell_type": "markdown",
   "metadata": {},
   "source": [
    "## Speed of Radix Sort\n",
    "\n",
    "10 tests are run for this sort from the result of the new array. The old array and the total result can be displayed above.\n",
    "20 items times 3 were tested.\n",
    "\n",
    "### <b><span style=\"color:green\">Radix Sort 4/4</span></b>\n",
    "Start to end:\n",
    "1. 0.0002246s\n",
    "2. 0.0001555s\n",
    "3. 0.0001465s\n",
    "4. 0.0002511s\n",
    "5. 0.0002180s\n",
    "\n",
    "6. 0.0005257s\n",
    "7. 0.0001688s\n",
    "8. 0.0002554s\n",
    "9. 0.0005825s\n",
    "10. 0.0003818s\n",
    "\n",
    "DESC Sorted:\n",
    "1. 0.0005825s\n",
    "2. 0.0005257s\n",
    "3. 0.0003818s\n",
    "4. 0.0002554s\n",
    "5. 0.0002511s\n",
    "\n",
    "6. 0.0002246s\n",
    "7. 0.0002180s\n",
    "8. 0.0001688s\n",
    "9. 0.0001555s\n",
    "10. 0.0001465s"
   ]
  },
  {
   "cell_type": "markdown",
   "metadata": {},
   "source": [
    "## Winners\n",
    "Here you see the winners from the tests above, with the smallest time first:\n",
    "\n",
    "1. Tim Sort - Total: (0.0015762s), Average: (0.00015762s)\n",
    "2. Insertion Sort - Total (0.0022390s), Average: (0.00022390s)\n",
    "3. Radix Sort - Total: (0.0026599s), Average: (0.00026599s)\n",
    "4. Merge Sort - Total (0.0033402s), Average: (0.00033402s)"
   ]
  },
  {
   "cell_type": "markdown",
   "metadata": {},
   "source": [
    "## But wait...\n",
    "Here are results when 1000 items are appended in 3 different lists for each sorting algorithm:\n",
    "1. Tim Sort - 0.0013712s\n",
    "2. Radix Sort - 0.0050478s\n",
    "3. Merge Sort - 0.0162281s\n",
    "4. Insertion Sort - 0.240582s\n",
    "\n",
    "Here are results when 10000 items are appended in 3 different lists for each sorting algorithm:\n",
    "1. Tim Sort - 0.0122064s\n",
    "2. Radix Sort - 0.0219320s\n",
    "3. Merge Sort - 0.0744098s\n",
    "4. Insertion Sort - 29.4017883s\n",
    "\n",
    "Here are results when 100000 items are appended in 3 different lists for each sorting algorithm:\n",
    "1. Tim Sort - 0.2025726s\n",
    "2. Radix Sort - 0.5850222s\n",
    "3. Merge Sort - 1.9085371s\n",
    "4. Insertion Sort - 1h 2m 24.6566173s / 3744.6566173s"
   ]
  }
 ],
 "metadata": {
  "kernelspec": {
   "display_name": "Python 3",
   "language": "python",
   "name": "python3"
  },
  "language_info": {
   "codemirror_mode": {
    "name": "ipython",
    "version": 3
   },
   "file_extension": ".py",
   "mimetype": "text/x-python",
   "name": "python",
   "nbconvert_exporter": "python",
   "pygments_lexer": "ipython3",
   "version": "3.12.2"
  }
 },
 "nbformat": 4,
 "nbformat_minor": 2
}
